{
 "cells": [
  {
   "cell_type": "code",
   "execution_count": 5,
   "id": "63a66f08-4cf0-41eb-a7b8-a016bbc1c56a",
   "metadata": {},
   "outputs": [
    {
     "name": "stdout",
     "output_type": "stream",
     "text": [
      "<Response [422]>\n"
     ]
    }
   ],
   "source": [
    "import requests\n",
    "\n",
    "response = requests.post('https://data-api.globalforestwatch.org/auth/sign-up',\\\n",
    "data='{ \"name\": \"espartinadrones@gmail.com\", \"email\": \"espartinadrones@gmail.com\" }',\\\n",
    "                         headers={'Content-Type': 'application/json'})\n",
    "\n",
    "print(response)\n"
   ]
  },
  {
   "cell_type": "code",
   "execution_count": null,
   "id": "5c85b649-b2ff-46a7-ad66-f6f50d616ce5",
   "metadata": {},
   "outputs": [],
   "source": []
  },
  {
   "cell_type": "code",
   "execution_count": null,
   "id": "af73de82-bef2-4db5-9044-e4b6213860e7",
   "metadata": {},
   "outputs": [],
   "source": []
  }
 ],
 "metadata": {
  "kernelspec": {
   "display_name": "Python 3 (ipykernel)",
   "language": "python",
   "name": "python3"
  },
  "language_info": {
   "codemirror_mode": {
    "name": "ipython",
    "version": 3
   },
   "file_extension": ".py",
   "mimetype": "text/x-python",
   "name": "python",
   "nbconvert_exporter": "python",
   "pygments_lexer": "ipython3",
   "version": "3.8.2"
  }
 },
 "nbformat": 4,
 "nbformat_minor": 5
}
